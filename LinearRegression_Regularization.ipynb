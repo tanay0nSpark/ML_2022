{
  "nbformat": 4,
  "nbformat_minor": 0,
  "metadata": {
    "colab": {
      "provenance": [],
      "authorship_tag": "ABX9TyPlbeQCI8eWW0lZ7Ot85fMp",
      "include_colab_link": true
    },
    "kernelspec": {
      "name": "python3",
      "display_name": "Python 3"
    },
    "language_info": {
      "name": "python"
    }
  },
  "cells": [
    {
      "cell_type": "markdown",
      "metadata": {
        "id": "view-in-github",
        "colab_type": "text"
      },
      "source": [
        "<a href=\"https://colab.research.google.com/github/tanay0nSpark/ML_2022/blob/main/LinearRegression_Regularization.ipynb\" target=\"_parent\"><img src=\"https://colab.research.google.com/assets/colab-badge.svg\" alt=\"Open In Colab\"/></a>"
      ]
    },
    {
      "cell_type": "code",
      "execution_count": 1,
      "metadata": {
        "id": "xAJvqXyqm7N5"
      },
      "outputs": [],
      "source": [
        "# Importing some important libraries\n",
        "import pandas as pd\n",
        "import numpy as np\n",
        "import matplotlib.pyplot as plt\n",
        "import seaborn as sns\n",
        "import pickle"
      ]
    },
    {
      "cell_type": "code",
      "source": [
        "# This library helps us in creating statiscal model of the dataset\n",
        "# By this lib. we can check p-value and 100 - pvalue will give us\n",
        "# contribution factor of the column or feature corresponding to label or ouput feature\n",
        "import statsmodels.formula.api as snf"
      ],
      "metadata": {
        "id": "K9ximDiqnHiw"
      },
      "execution_count": 2,
      "outputs": []
    },
    {
      "cell_type": "code",
      "source": [],
      "metadata": {
        "id": "Pv39OxmgnLtT"
      },
      "execution_count": null,
      "outputs": []
    }
  ]
}